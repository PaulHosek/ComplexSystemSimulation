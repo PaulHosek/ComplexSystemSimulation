{
 "cells": [
  {
   "cell_type": "code",
   "execution_count": 1,
   "metadata": {
    "collapsed": true,
    "pycharm": {
     "name": "#%%\n"
    }
   },
   "outputs": [],
   "source": [
    "import numpy as np\n",
    "import matplotlib.pyplot as plt\n",
    "from matplotlib import animation\n",
    "from matplotlib import colors\n",
    "from mpl_toolkits.mplot3d import Axes3D\n",
    "import initial_distributions"
   ]
  },
  {
   "cell_type": "code",
   "execution_count": null,
   "outputs": [],
   "source": [
    "def calc_psi(H_t,h,H_ref):\n",
    "  \"\"\"\n",
    "  Calculate (initial) psi/ surface-to-reference distance.\n",
    "  \"\"\"\n",
    "  return H_t + h - H_ref\n",
    "\n",
    "def melt_rate(m_p, m_i, h, h_max):\n",
    "    \"\"\"\n",
    "    Calculate total melt rate m based on albedo of melt ponds.\n",
    "    :param m_p: enhancement factor due to the presence of melt ponds\n",
    "    :param m_i: constant summer melt rate for unponded ice\n",
    "    :param h: current pond depth\n",
    "    :param h_max: global pond depth after which the ice-melting process doesn't quickens\n",
    "    :return:\n",
    "    \"\"\"\n",
    "    if h > h_max:\n",
    "      return 1+ m_p/m_i\n",
    "    else:\n",
    "      return 1+ m_p/m_i * h/h_max"
   ],
   "metadata": {
    "collapsed": false,
    "pycharm": {
     "name": "#%%\n"
    }
   }
  },
  {
   "cell_type": "code",
   "execution_count": null,
   "outputs": [],
   "source": [
    "def next_h(h_t, delta_t, m, rho_ice, rho_water, s):\n",
    "    \"\"\"\n",
    "    Discretisation of dhdt. Calculates next value for h.\n",
    "    :param h_t: np.array; current height of water\n",
    "    :param delta_t: time step\n",
    "    :param m: melting rate\n",
    "    :param rho_ice: ice density\n",
    "    :param rho_water: water density\n",
    "    :param s: vertical seepage rate\n",
    "    :return:\n",
    "    \"\"\"\n",
    "    return h_t + delta_t * (m * (rho_ice / rho_water) - s)"
   ],
   "metadata": {
    "collapsed": false,
    "pycharm": {
     "name": "#%%\n"
    }
   }
  },
  {
   "cell_type": "markdown",
   "source": [
    "Beta distribution"
   ],
   "metadata": {
    "collapsed": false,
    "pycharm": {
     "name": "#%% md\n"
    }
   }
  },
  {
   "cell_type": "code",
   "execution_count": 2,
   "outputs": [],
   "source": [
    "size = 100\n",
    "psi_0, X,Y = initial_distributions.valley_distr(size=size)\n",
    "initial_distributions.plot_distribution(psi_0,X,Y)"
   ],
   "metadata": {
    "collapsed": false,
    "pycharm": {
     "name": "#%%\n"
    }
   }
  },
  {
   "cell_type": "code",
   "execution_count": 4,
   "outputs": [
    {
     "data": {
      "text/plain": "[<matplotlib.lines.Line2D at 0x7fe79a831670>]"
     },
     "execution_count": 4,
     "metadata": {},
     "output_type": "execute_result"
    },
    {
     "data": {
      "text/plain": "<Figure size 640x480 with 1 Axes>",
      "image/png": "[encoded data removed]"
     },
     "metadata": {},
     "output_type": "display_data"
    }
   ],
   "source": [
    "from scipy.stats import beta\n",
    "a, b = 2.31, 0.627\n",
    "x = np.linspace(beta.ppf(0.01, a, b),\n",
    "                beta.ppf(0.99, a, b), 100)\n",
    "plt.plot(x, beta.pdf(x, a, b),\n",
    "       'r-', lw=5, alpha=0.6, label='beta pdf')"
   ],
   "metadata": {
    "collapsed": false,
    "pycharm": {
     "name": "#%%\n"
    }
   }
  },
  {
   "cell_type": "code",
   "execution_count": null,
   "outputs": [],
   "source": [],
   "metadata": {
    "collapsed": false,
    "pycharm": {
     "name": "#%%\n"
    }
   }
  }
 ],
 "metadata": {
  "kernelspec": {
   "display_name": "Python 3",
   "language": "python",
   "name": "python3"
  },
  "language_info": {
   "codemirror_mode": {
    "name": "ipython",
    "version": 2
   },
   "file_extension": ".py",
   "mimetype": "text/x-python",
   "name": "python",
   "nbconvert_exporter": "python",
   "pygments_lexer": "ipython2",
   "version": "2.7.6"
  }
 },
 "nbformat": 4,
 "nbformat_minor": 0
}