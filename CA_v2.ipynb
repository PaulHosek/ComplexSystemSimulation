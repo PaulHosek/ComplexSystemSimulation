{
 "cells": [
  {
   "cell_type": "code",
   "execution_count": 1,
   "metadata": {
    "collapsed": true,
    "pycharm": {
     "name": "#%%\n"
    }
   },
   "outputs": [],
   "source": [
    "import numpy as np\n",
    "import matplotlib.pyplot as plt\n",
    "from matplotlib import animation\n",
    "from matplotlib import colors\n",
    "from mpl_toolkits.mplot3d import Axes3D\n",
    "import initial_distributions"
   ]
  },
  {
   "cell_type": "code",
   "execution_count": 2,
   "metadata": {
    "collapsed": false,
    "pycharm": {
     "name": "#%%\n"
    }
   },
   "outputs": [],
   "source": [
    "def calc_psi(H_t,h,H_ref):\n",
    "  \"\"\"\n",
    "  Calculate (initial) psi/ surface-to-reference distance.\n",
    "  \"\"\"\n",
    "  return H_t + h - H_ref\n",
    "\n",
    "def melt_rate(m_p, m_i, h, h_max):\n",
    "    \"\"\"\n",
    "    Calculate total melt rate m based on albedo of melt ponds.\n",
    "    :param m_p: enhancement factor due to the presence of melt ponds\n",
    "    :param m_i: constant summer melt rate for unponded ice\n",
    "    :param h: current pond depth\n",
    "    :param h_max: global pond depth after which the ice-melting process doesn't quickens\n",
    "    :return:\n",
    "    \"\"\"\n",
    "    if h > h_max:\n",
    "      return 1+ m_p/m_i\n",
    "    else:\n",
    "      return 1+ m_p/m_i * h/h_max"
   ]
  },
  {
   "cell_type": "code",
   "execution_count": 3,
   "metadata": {
    "collapsed": false,
    "pycharm": {
     "name": "#%%\n"
    }
   },
   "outputs": [],
   "source": [
    "def melt_drain(h, delta_t, m, rho_ice, rho_water, s):\n",
    "    \"\"\"\n",
    "    Discretisation of dhdt. Calculates next value for h based on vertical movement only.\n",
    "    :param h: np.array; current height of water\n",
    "    :param delta_t: time step\n",
    "    :param m: melting rate\n",
    "    :param rho_ice: ice density\n",
    "    :param rho_water: water density\n",
    "    :param s: vertical seepage rate\n",
    "    :return:\n",
    "    \"\"\"\n",
    "    return h + delta_t * (m * (rho_ice / rho_water) - s)\n",
    "\n",
    "def heaviside(h):\n",
    "    \"\"\"\n",
    "    Prevents the meltwater depth h from becoming negative.\n",
    "    \"\"\"\n",
    "    return np.where(h < 0, 0, 1)"
   ]
  },
  {
   "cell_type": "code",
   "execution_count": null,
   "outputs": [],
   "source": [
    "def gradient(x, dx, roll, axis):\n",
    "    '''\n",
    "    calculates the gradient between two adjacent cells for an entire 2D array\n",
    "\n",
    "    Arguments:\n",
    "        x -- 2D array\n",
    "        dx -- space interval\n",
    "        roll -- where to roll (-1, +1)\n",
    "        axis -- along which axis to roll\n",
    "\n",
    "    Returns:\n",
    "        grad -- the gradient between two cells\n",
    "    '''\n",
    "\n",
    "    grad = (np.roll(x, roll, axis=axis) - x) /dx\n",
    "\n",
    "    return grad\n",
    "\n",
    "def horizontal_flow(psi, dt, dx):\n",
    "    '''\n",
    "    Calculates the the horizontal flow for all cells based on the ice topography psi\n",
    "    Note: happens after vertical drainage\n",
    "\n",
    "    Arguments:\n",
    "        psi -- 2D array of the ice topography\n",
    "        dt -- time increment\n",
    "        dx -- space increment\n",
    "\n",
    "    Returns:\n",
    "        dh -- change in water height due to horizontal flow\n",
    "    '''\n",
    "\n",
    "    # define constants\n",
    "    mu = 1.79e-3 # [kg/(m*s)] dynamic viscosity\n",
    "    pi = 3e-9 # [m^2] horizontal permability\n",
    "    rho_water = 1000 # [kg/m^3] desity\n",
    "    g = 9.832 # [m/s^2] gravitational acceleration at the poles\n",
    "\n",
    "    # calculate all constants togeter\n",
    "    const = dt * dx * g * rho_water * pi / mu\n",
    "\n",
    "    # define parameters for the neighbors\n",
    "    axes = [0, 1]\n",
    "    rolls = [-1, 1]\n",
    "\n",
    "    # initialize zero array of water height change\n",
    "    dh = np.zeros(psi.shape)\n",
    "    grads = []\n",
    "\n",
    "    # calculate the in / out flow for each neighbor and sum them up\n",
    "    for ax in axes:\n",
    "        for roll in rolls:\n",
    "\n",
    "            grad = gradient(psi, dx, roll, ax)\n",
    "            grads.append(grad.mean())\n",
    "\n",
    "            dh[grad > 0] += const * grad[grad > 0] * np.roll(psi, roll, axis=ax)[grad > 0] \n",
    "            dh[grad < 0] += const * grad[grad < 0] * psi[grad < 0]\n",
    "\n",
    "    return dh, grads"
   ],
   "metadata": {
    "collapsed": false,
    "pycharm": {
     "name": "#%%\n"
    }
   }
  },
  {
   "cell_type": "code",
   "execution_count": null,
   "outputs": [],
   "source": [
    "def calc_H0(psi_0,rho_ice,rho_water):\n",
    "    \"\"\"\n",
    "    Initial ice thickness by assuming hydrostatic equilibrium.\n",
    "    :param psi_0:\n",
    "    :param rho_ice:\n",
    "    :param rho_water:\n",
    "    :return:\n",
    "    \"\"\"\n",
    "    return psi_0/(1-(rho_ice/rho_water))\n",
    "\n",
    "def calc_dHtdt(H,m):\n",
    "  \"\"\"\n",
    "  Update of ice-surface height, evolution.\n",
    "  :param H: Ice height\n",
    "  :param m: melting rate\n",
    "  \"\"\"\n",
    "  return heaviside(H)*-m\n",
    "\n",
    "def next_Ht(dHtdt,delta_t,H_t):\n",
    "  return dHtdt*delta_t + H_t"
   ],
   "metadata": {
    "collapsed": false,
    "pycharm": {
     "name": "#%%\n"
    }
   }
  },
  {
   "cell_type": "code",
   "execution_count": null,
   "outputs": [],
   "source": [
    "# Completly fixed constants\n",
    "\n",
    "# Water and ice densities - fixed values\n",
    "rho_water = 1000\n",
    "rho_ice = 900\n",
    "\n",
    "# Seepage rate\n",
    "s = 0.008 / (3600 * 24)\n",
    "\n",
    "pi_h = 3e-9 # horizontal permeability of sea ice\n",
    "delta_x = 1\n",
    "\n",
    "m_i = 0.012 / (3600 * 24) # cm/day; unpounded ice melt rate\n",
    "m_p = 0.02 / (3600 * 24) # cm/day; maximum melt pond enhanced melt rate"
   ],
   "metadata": {
    "collapsed": false,
    "pycharm": {
     "name": "#%%\n"
    }
   }
  },
  {
   "cell_type": "code",
   "execution_count": null,
   "outputs": [],
   "source": [
    "m = m_i # should really follow equation 4\n",
    "\n",
    "# Size of the array\n",
    "size = 125\n",
    "\n",
    "# Timestep\n",
    "delta_t = 1\n",
    "\n",
    "psi_0 = np.random.normal(loc = 0, scale = 0.1, size = (size, size))\n",
    "psi_0 = np.abs(psi_0)\n",
    "\n",
    "# psi_0, X,Y = initial_distributions.valley_distr(size=size)\n",
    "# psi_0 = heaviside(psi_0) * psi_0"
   ],
   "metadata": {
    "collapsed": false,
    "pycharm": {
     "name": "#%%\n"
    }
   }
  },
  {
   "cell_type": "code",
   "execution_count": null,
   "outputs": [],
   "source": [
    "# Initialise grid water levels - no negative values\n",
    "h = np.zeros(shape = (size, size))\n",
    "\n",
    "# Total ice thickness at initial condition\n",
    "H0 = calc_H0(psi_0,rho_ice,rho_water)\n",
    "\n",
    "# Reference point - zero\n",
    "H_ref = np.zeros(h.shape)\n",
    "\n",
    "# Set the initial conditions\n",
    "Ht = psi_0 # initially no water, so psi = Ht assuming H_ref = 0\n",
    "psi= psi_0\n",
    "H = H0"
   ],
   "metadata": {
    "collapsed": false,
    "pycharm": {
     "name": "#%%\n"
    }
   }
  },
  {
   "cell_type": "code",
   "execution_count": null,
   "outputs": [],
   "source": [
    "Hts = []\n",
    "grads_list = []\n",
    "psis_list = []\n",
    "Hs = []\n",
    "for _ in range(200_000):\n",
    "\n",
    "    h = heaviside(h) * heaviside(H) * melt_drain(h, delta_t, m, rho_ice, rho_water, s)\n",
    "    H = heaviside(H) * (H - delta_t * m)\n",
    "    Hs.append(H.mean())\n",
    "    # Ht = heaviside(Ht) * (Ht - m * delta_t) # heaviside(H) * ((-H-h) / (rho_ice / rho_water -1))\n",
    "    Ht = heaviside(H) * ((H-h) / (rho_ice / rho_water +1))\n",
    "    Hts.append(Ht.mean())\n",
    "    psi = calc_psi(Ht, h, H_ref)\n",
    "    dh, grads = horizontal_flow(psi, delta_t, delta_x)\n",
    "    grads_list.append(grads)\n",
    "    h = heaviside(h) * heaviside(H) * (h + dh)\n",
    "    psi = calc_psi(Ht, h, H_ref)\n",
    "    psis_list.append(psi.mean())\n",
    "\n",
    "\n",
    "\n",
    "\n",
    "    # # dhdt = calc_dhdt(h, rho_water,rho_ice,s,pi_h, psi, m, delta_x)\n",
    "    # # cur_h = next_h(dhdt,delta_t,h)\n",
    "    # Ht = next_Ht(calc_dHtdt(H,m),delta_t,Ht)\n",
    "    # # h = cur_h\n",
    "    # H = H + calc_dHtdt(H,m)*delta_t\n",
    "    # # psi = calc_psi(Ht, h, H_ref) # psi for the next step\n",
    "    # print(np.mean(calc_dHtdt(H,m)))\n",
    "    # Hs.append(np.mean(H))\n",
    "\n",
    "\n",
    "plt.imshow(H)\n",
    "plt.colorbar()"
   ],
   "metadata": {
    "collapsed": false,
    "pycharm": {
     "name": "#%%\n"
    }
   }
  },
  {
   "cell_type": "code",
   "execution_count": null,
   "outputs": [],
   "source": [
    "plt.imshow(np.ma.masked_where(h<0, h))\n",
    "plt.colorbar()"
   ],
   "metadata": {
    "collapsed": false,
    "pycharm": {
     "name": "#%%\n"
    }
   }
  },
  {
   "cell_type": "code",
   "execution_count": null,
   "outputs": [],
   "source": [
    "plt.imshow(np.ma.masked_where(H==0, H))"
   ],
   "metadata": {
    "collapsed": false,
    "pycharm": {
     "name": "#%%\n"
    }
   }
  },
  {
   "cell_type": "code",
   "execution_count": null,
   "outputs": [],
   "source": [
    "grads_list = np.array(grads_list)\n",
    "\n",
    "plt.plot(grads_list)\n",
    "#plt.yscale('log')"
   ],
   "metadata": {
    "collapsed": false,
    "pycharm": {
     "name": "#%%\n"
    }
   }
  },
  {
   "cell_type": "code",
   "execution_count": null,
   "outputs": [],
   "source": [
    "plt.plot(psis_list)"
   ],
   "metadata": {
    "collapsed": false,
    "pycharm": {
     "name": "#%%\n"
    }
   }
  },
  {
   "cell_type": "code",
   "execution_count": null,
   "outputs": [],
   "source": [
    "plt.plot(Hts)"
   ],
   "metadata": {
    "collapsed": false,
    "pycharm": {
     "name": "#%%\n"
    }
   }
  },
  {
   "cell_type": "code",
   "execution_count": null,
   "outputs": [],
   "source": [
    "plt.plot(Hs)"
   ],
   "metadata": {
    "collapsed": false,
    "pycharm": {
     "name": "#%%\n"
    }
   }
  },
  {
   "cell_type": "code",
   "execution_count": null,
   "outputs": [],
   "source": [
    "plt.imshow(psi)\n",
    "plt.colorbar()"
   ],
   "metadata": {
    "collapsed": false,
    "pycharm": {
     "name": "#%%\n"
    }
   }
  },
  {
   "cell_type": "code",
   "execution_count": null,
   "outputs": [],
   "source": [
    "plt.imshow(Ht)\n",
    "plt.colorbar()"
   ],
   "metadata": {
    "collapsed": false,
    "pycharm": {
     "name": "#%%\n"
    }
   }
  },
  {
   "cell_type": "code",
   "execution_count": null,
   "metadata": {},
   "outputs": [],
   "source": []
  }
 ],
 "metadata": {
  "kernelspec": {
   "display_name": "Python 3",
   "language": "python",
   "name": "python3"
  },
  "language_info": {
   "codemirror_mode": {
    "name": "ipython",
    "version": 3
   },
   "file_extension": ".py",
   "mimetype": "text/x-python",
   "name": "python",
   "nbconvert_exporter": "python",
   "pygments_lexer": "ipython3",
   "version": "3.10.8"
  }
 },
 "nbformat": 4,
 "nbformat_minor": 0
}