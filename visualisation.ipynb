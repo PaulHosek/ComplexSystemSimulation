{
 "cells": [
  {
   "cell_type": "code",
   "execution_count": 45,
   "metadata": {},
   "outputs": [],
   "source": [
    "from topography import Create_Initial_Topography, multi_valley, order_distribution\n",
    "import numpy as np\n",
    "import matplotlib.pyplot as plt\n",
    "from mpl_toolkits.axes_grid1 import make_axes_locatable\n",
    "\n",
    "def draw_3d_CA(H,h,mode,size):\n",
    "    \"\"\"makes a 3D plot of the Cellular Automata system state\"\"\"\n",
    "\n",
    "    # Create a meshgrid for x, y coordinates\n",
    "    x, y = np.meshgrid(np.arange(H.shape[1]), np.arange(H.shape[0]))\n",
    "\n",
    "    # Flatten the arrays to create bars in the 3D plot\n",
    "    x = x.flatten()\n",
    "    y = y.flatten()\n",
    "    z = np.zeros_like(x)\n",
    "\n",
    "    z = H.flatten()\n",
    "    dx = dy = 0.8\n",
    "    dz = H.flatten()\n",
    "    dz2 = h.flatten()\n",
    "\n",
    "    #create figure\n",
    "    fig = plt.figure(figsize=(8, 8))\n",
    "\n",
    "    ax = fig.add_subplot(111, projection='3d')\n",
    "    ax.grid(False)\n",
    "    ax.xaxis.set_pane_color((0.0, 0.0, 0.0, 0.0))\n",
    "    ax.yaxis.set_pane_color((0.0, 0.0, 0.0, 0.0))\n",
    "    ax.zaxis.set_pane_color((0.0, 0.0, 0.0, 0.0))\n",
    "\n",
    "    plt.axis('off')\n",
    "\n",
    "    nonzero_indices = dz > 0\n",
    "    nonzero_indices2 = dz2 > 0\n",
    "\n",
    "    # Ice\n",
    "    ax.bar3d(x[nonzero_indices], y[nonzero_indices], z[nonzero_indices],\n",
    "             dx, dy, dz[nonzero_indices] + .38, color='linen', shade=True, alpha=1)  # +.3 azure, seashell,linen\n",
    "    # Water\n",
    "    ax.bar3d(x[nonzero_indices2], y[nonzero_indices2], dz[nonzero_indices] + .4,\n",
    "             dx, dy, dz2[nonzero_indices2], color='steelblue', shade=True, alpha=.4)\n",
    "\n",
    "    ax.view_init(elev=30, azim=360 - 37)\n",
    "    # ax.view_init(elev=70, azim=360-60)\n",
    "    plt.gca().invert_xaxis()\n",
    "\n",
    "    plt.savefig(f\"Figures/Topography/3D/Topography_{mode}_size_{size}.png\")\n",
    "\n",
    "def draw_2D_CA(H,mode,size):\n",
    "\n",
    "    #create figure\n",
    "    fig = plt.figure(figsize=(8, 8))\n",
    "    ax = fig.add_subplot(111)\n",
    "\n",
    "    #hide ticks\n",
    "    ax.set_xticks([])\n",
    "    ax.set_yticks([])\n",
    "\n",
    "    #image is initial state\n",
    "    im = ax.imshow(H,cmap=\"bone\")\n",
    "\n",
    "    #add colorbar to the right\n",
    "    divider = make_axes_locatable(ax)\n",
    "    cax = divider.append_axes('right', size='5%', pad=0.05)\n",
    "\n",
    "    fig.colorbar(im, cax=cax, orientation='vertical')\n",
    "\n",
    "    plt.savefig(f\"Figures/Topography/2D/Topography_{mode}_size_{size}.png\")\n"
   ]
  },
  {
   "attachments": {},
   "cell_type": "markdown",
   "metadata": {},
   "source": [
    "# Visualize the initial topographies in 2D and 3D"
   ]
  },
  {
   "cell_type": "code",
   "execution_count": 53,
   "metadata": {},
   "outputs": [
    {
     "name": "stderr",
     "output_type": "stream",
     "text": [
      "/home/maistro/anaconda3/lib/python3.9/site-packages/numpy/core/fromnumeric.py:3440: RuntimeWarning: Mean of empty slice.\n",
      "  return _methods._mean(a, axis=axis, dtype=dtype,\n",
      "/home/maistro/anaconda3/lib/python3.9/site-packages/numpy/core/_methods.py:189: RuntimeWarning: invalid value encountered in double_scalars\n",
      "  ret = ret.dtype.type(ret / rcount)\n"
     ]
    },
    {
     "data": {
      "image/png": "[encoded data removed]",
      "text/plain": [
       "<Figure size 576x576 with 2 Axes>"
      ]
     },
     "metadata": {
      "needs_background": "light"
     },
     "output_type": "display_data"
    }
   ],
   "source": [
    "size = 50\n",
    "mode = \"snow_dune\"\n",
    "order = 0.9\n",
    "\n",
    "\n",
    "if mode == \"multi_valley\":\n",
    "    #original multivalley topography\n",
    "    H ,_,_ = multi_valley(size=size)\n",
    "elif mode == \"order\":\n",
    "    #original order topography\n",
    "    H = order_distribution(order,size)\n",
    "    mode = f\"order_{order}\"\n",
    "else:\n",
    "    #topologies from From Popovic et al., 2020\n",
    "    H = Create_Initial_Topography(res=size, mode=mode, tmax=2, dt=0.1, g=1, sigma_h=1., h=0., snow_dune_radius=1.,Gaussians_per_pixel=0.2, number_of_r_bins=150, window_size=5, snow_dune_height_exponent=1.)\n",
    "\n",
    "\n",
    "#water not present in initial domain\n",
    "h = np.zeros((H.shape[0],H.shape[0]))\n",
    "\n",
    "#draw 3d plot\n",
    "# draw_3d_CA(H,h,mode,size)\n",
    "\n",
    "#draw 2d plot\n",
    "draw_2D_CA(H,mode,size)\n"
   ]
  }
 ],
 "metadata": {
  "kernelspec": {
   "display_name": "base",
   "language": "python",
   "name": "python3"
  },
  "language_info": {
   "codemirror_mode": {
    "name": "ipython",
    "version": 3
   },
   "file_extension": ".py",
   "mimetype": "text/x-python",
   "name": "python",
   "nbconvert_exporter": "python",
   "pygments_lexer": "ipython3",
   "version": "3.9.12"
  },
  "orig_nbformat": 4
 },
 "nbformat": 4,
 "nbformat_minor": 2
}
