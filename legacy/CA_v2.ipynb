{
 "cells": [
  {
   "cell_type": "code",
   "execution_count": 1,
   "metadata": {
    "collapsed": true,
    "pycharm": {
     "name": "#%%\n"
    }
   },
   "outputs": [],
   "source": [
    "import numpy as np\n",
    "import matplotlib.pyplot as plt\n",
    "from matplotlib import animation\n",
    "from matplotlib import colors\n",
    "from mpl_toolkits.mplot3d import Axes3D\n",
    "import initial_distributions\n",
    "from skimage.transform import resize"
   ]
  },
  {
   "cell_type": "code",
   "execution_count": 2,
   "metadata": {
    "collapsed": false,
    "pycharm": {
     "name": "#%%\n"
    }
   },
   "outputs": [],
   "source": [
    "def calc_psi(H_t,h,H_ref):\n",
    "  \"\"\"\n",
    "  Calculate (initial) psi/ surface-to-reference distance.\n",
    "  \"\"\"\n",
    "  return H_t + h - H_ref\n",
    "\n",
    "def melt_rate(m_p, m_i, h, h_max):\n",
    "    \"\"\"\n",
    "    Calculate total melt rate m based on albedo of melt ponds.\n",
    "    if h > h_max:\n",
    "      return 1+ m_p/m_i\n",
    "    else:\n",
    "      return 1+ m_p/m_i * h/h_max\n",
    "\n",
    "    :param m_p: enhancement factor due to the presence of melt ponds\n",
    "    :param m_i: constant summer melt rate for unponded ice\n",
    "    :param h: current pond depth\n",
    "    :param h_max: global pond depth after which the ice-melting process doesn't quickens\n",
    "    :return: m\n",
    "    \"\"\"\n",
    "    return np.where(h>h_max,1+ m_p/m_i, (1+ m_p/m_i * h/h_max)) * m_i\n",
    "\n",
    "def melt_rate_neighbors(m_p, m_i, h, h_max):\n",
    "    \"\"\"\n",
    "    Calculate total melt rate m based on albedo of melt ponds.\n",
    "    if h > h_max:\n",
    "      return 1+ m_p/m_i\n",
    "    else:\n",
    "      return 1+ m_p/m_i * h/h_max\n",
    "\n",
    "    :param m_p: enhancement factor due to the presence of melt ponds\n",
    "    :param m_i: constant summer melt rate for unponded ice\n",
    "    :param h: current pond depth\n",
    "    :param h_max: global pond depth after which the ice-melting process doesn't quickens\n",
    "    :return: m\n",
    "    \"\"\"\n",
    "    m = melt_rate(m_p, m_i, h, h_max)\n",
    "\n",
    "    # define parameters for the neighbors\n",
    "    axes = [0, 1]\n",
    "    rolls = [-1, 1]\n",
    "\n",
    "    # initialize zero array for means of melt rate\n",
    "    ms = np.zeros(h.shape)\n",
    "\n",
    "    # add meltrates of neighbors\n",
    "    for ax in axes:\n",
    "        for roll in rolls:\n",
    "            \n",
    "            ms += np.roll(m, roll, axis=ax)\n",
    "    \n",
    "    ms = ms / 4\n",
    "\n",
    "    m = np.where(ms>m, ms, m)\n",
    "    return m\n"
   ]
  },
  {
   "cell_type": "code",
   "execution_count": 3,
   "metadata": {
    "collapsed": false,
    "pycharm": {
     "name": "#%%\n"
    }
   },
   "outputs": [],
   "source": [
    "def melt_drain(h, delta_t, m, rho_ice, rho_water, s):\n",
    "    \"\"\"\n",
    "    Discretisation of dhdt. Calculates next value for h based on vertical movement only.\n",
    "    :param h: np.array; current height of water\n",
    "    :param delta_t: time step\n",
    "    :param m: melting rate\n",
    "    :param rho_ice: ice density\n",
    "    :param rho_water: water density\n",
    "    :param s: vertical seepage rate\n",
    "    :return:\n",
    "    \"\"\"\n",
    "    return h + delta_t * (m * (rho_ice / rho_water) - s)\n",
    "\n",
    "def heaviside(h):\n",
    "    \"\"\"\n",
    "    Prevents the meltwater depth h from becoming negative.\n",
    "    \"\"\"\n",
    "    return np.where(h < 0, 0, 1)"
   ]
  },
  {
   "cell_type": "code",
   "execution_count": null,
   "outputs": [],
   "source": [
    "def gradient(x, dx, roll, axis):\n",
    "    '''\n",
    "    calculates the gradient between two adjacent cells for an entire 2D array\n",
    "\n",
    "    Arguments:\n",
    "        x -- 2D array\n",
    "        dx -- space interval\n",
    "        roll -- where to roll (-1, +1)\n",
    "        axis -- along which axis to roll\n",
    "\n",
    "    Returns:\n",
    "        grad -- the gradient between two cells\n",
    "    '''\n",
    "\n",
    "    grad = (np.roll(x, roll, axis=axis) - x) /dx\n",
    "\n",
    "    return grad\n",
    "\n",
    "def horizontal_flow(psi, h, dt, dx):\n",
    "    '''\n",
    "    Calculates the the horizontal flow for all cells based on the ice topography psi\n",
    "    Note: happens after vertical drainage\n",
    "\n",
    "    Arguments:\n",
    "        psi -- 2D array of the ice topography\n",
    "        dt -- time increment\n",
    "        dx -- space increment\n",
    "\n",
    "    Returns:\n",
    "        dh -- change in water height due to horizontal flow\n",
    "    '''\n",
    "\n",
    "    # define constants\n",
    "    mu = 1.79e-3 # [kg/(m*s)] dynamic viscosity\n",
    "    pi = 3e-9 # [m^2] horizontal permability\n",
    "    rho_water = 1000 # [kg/m^3] desity\n",
    "    g = 9.832 # [m/s^2] gravitational acceleration at the poles\n",
    "\n",
    "    # calculate all constants togeter\n",
    "    const = dt * dx * g * rho_water * pi / mu\n",
    "\n",
    "    # define parameters for the neighbors\n",
    "    axes = [0, 1]\n",
    "    rolls = [-1, 1]\n",
    "\n",
    "    # initialize zero array of water height change\n",
    "    dh = np.zeros(psi.shape)\n",
    "    grads = []\n",
    "\n",
    "    # calculate the in / out flow for each neighbor and sum them up\n",
    "    for ax in axes:\n",
    "        for roll in rolls:\n",
    "\n",
    "            grad = gradient(psi, dx, roll, ax)\n",
    "            grads.append(grad.mean())\n",
    "\n",
    "            dh[grad > 0] += const * grad[grad > 0] * np.roll(h, roll, axis=ax)[grad > 0] \n",
    "            dh[grad < 0] += const * grad[grad < 0] * h[grad < 0]\n",
    "\n",
    "    return dh, grads"
   ],
   "metadata": {
    "collapsed": false,
    "pycharm": {
     "name": "#%%\n"
    }
   }
  },
  {
   "cell_type": "code",
   "execution_count": null,
   "outputs": [],
   "source": [
    "def calc_H0(psi_0,rho_ice,rho_water):\n",
    "    \"\"\"\n",
    "    Initial ice thickness by assuming hydrostatic equilibrium.\n",
    "    :param psi_0:\n",
    "    :param rho_ice:\n",
    "    :param rho_water:\n",
    "    :return:\n",
    "    \"\"\"\n",
    "    return psi_0/(1-(rho_ice/rho_water))\n",
    "\n",
    "def calc_dHtdt(H,m):\n",
    "  \"\"\"\n",
    "  Update of ice-surface height, evolution.\n",
    "  :param H: Ice height\n",
    "  :param m: melting rate\n",
    "  \"\"\"\n",
    "  return heaviside(H)*-m\n",
    "\n",
    "def next_Ht(dHtdt,delta_t,H_t):\n",
    "  return dHtdt*delta_t + H_t"
   ],
   "metadata": {
    "collapsed": false,
    "pycharm": {
     "name": "#%%\n"
    }
   }
  },
  {
   "cell_type": "code",
   "execution_count": null,
   "outputs": [],
   "source": [
    "# Completly fixed constants\n",
    "\n",
    "# Water and ice densities - fixed values\n",
    "rho_water = 1000\n",
    "rho_ice = 900\n",
    "\n",
    "# Seepage rate\n",
    "s = 0.008 / (3600 * 24)\n",
    "\n",
    "pi_h = 3e-9 # horizontal permeability of sea ice\n",
    "delta_x = 1\n",
    "\n",
    "m_i = 0.012 / (3600 * 24) # cm/day; unpounded ice melt rate\n",
    "m_p = 0.02 / (3600 * 24) # cm/day; maximum melt pond enhanced melt rate\n",
    "h_max = 0.1 # m depth until melting is enhanced"
   ],
   "metadata": {
    "collapsed": false,
    "pycharm": {
     "name": "#%%\n"
    }
   }
  },
  {
   "cell_type": "code",
   "execution_count": null,
   "outputs": [],
   "source": [
    "m = m_i # should really follow equation 4\n",
    "\n",
    "# Size of the array\n",
    "size = 100\n",
    "\n",
    "# Timestep\n",
    "delta_t = 10\n",
    "\n",
    "psi_0_coarse = np.random.normal(loc = 0.1, scale = 0.1, size = (int(size/5), int(size/5)))\n",
    "psi_0 = resize(psi_0_coarse, (size, size))\n",
    "\n",
    "# psi_0 = 0.1 * np.ones((size, size))\n",
    "\n",
    "#psi_0 = np.random.normal(loc = 0.1, scale = 0.01, size = (size, size))\n",
    "psi_0 = heaviside(psi_0) * psi_0 + 0.1\n",
    "\n",
    "# psi_0, X,Y = initial_distributions.valley_distr(size=size)\n",
    "# psi_0 = heaviside(psi_0) * psi_0\n",
    "\n",
    "# psi_0, X,Y = initial_distributions.multi_valley(size)\n",
    "# psi_0 = heaviside(psi_0) * psi_0"
   ],
   "metadata": {
    "collapsed": false,
    "pycharm": {
     "name": "#%%\n"
    }
   }
  },
  {
   "cell_type": "code",
   "execution_count": null,
   "outputs": [],
   "source": [
    "plt.imshow(psi_0)\n",
    "plt.colorbar()"
   ],
   "metadata": {
    "collapsed": false,
    "pycharm": {
     "name": "#%%\n"
    }
   }
  },
  {
   "cell_type": "code",
   "execution_count": null,
   "outputs": [],
   "source": [
    "# Initialise grid water levels - no negative values\n",
    "h = np.zeros(shape = (size, size))\n",
    "\n",
    "# F_in = 0.01\n",
    "# # make random ice water configuration with F_in as fraction of water\n",
    "# h = np.zeros(size**2)\n",
    "# h[:int(F_in * size**2)] = 1\n",
    "# np.random.shuffle(h)\n",
    "\n",
    "# h = h.reshape((size,size)) * 0.01\n",
    "\n",
    "\n",
    "\n",
    "\n",
    "# Total ice thickness at initial condition\n",
    "H0 = calc_H0(psi_0,rho_ice,rho_water)\n",
    "\n",
    "# Reference point - zero\n",
    "H_ref = np.zeros(h.shape)\n",
    "\n",
    "# Set the initial conditions\n",
    "Ht = psi_0 - h # initially no water, so psi = Ht assuming H_ref = 0\n",
    "psi= psi_0\n",
    "H = H0"
   ],
   "metadata": {
    "collapsed": false,
    "pycharm": {
     "name": "#%%\n"
    }
   }
  },
  {
   "cell_type": "code",
   "execution_count": null,
   "outputs": [],
   "source": [
    "# Hts = []\n",
    "# grads_list = []\n",
    "# psis_list = []\n",
    "# Hs = []\n",
    "# dHts = []\n",
    "# hs = []\n",
    "for i in range(100_000):\n",
    "\n",
    "    m = melt_rate_neighbors(m_p,m_i,h,h_max)\n",
    "    h = heaviside(H) * melt_drain(h, delta_t, m, rho_ice, rho_water, s) # h after melt and seepage only\n",
    "    H = heaviside(H) * (H - delta_t * m) # H after melt\n",
    "    # Hs.append(H.mean())\n",
    "    # Ht = heaviside(Ht) * (Ht - m * delta_t) # heaviside(H) * ((-H-h) / (rho_ice / rho_water -1))\n",
    "    dHt = (((H.mean()-h.mean()) / (rho_ice / rho_water +1)) - Ht.mean()) # change in Ht for the entire floe due to rebalancing\n",
    "    # dHts.append(dHt)\n",
    "    Ht = heaviside(H) * (Ht + dHt) #(((H.mean()-h.mean()) / (rho_ice / rho_water +1)) - Ht.mean())) # rebalance Ht after melting and seepage before horizontal flow\n",
    "    # Hts.append(Ht.mean())\n",
    "    psi = calc_psi(Ht, h, H_ref) # determine the topography before calculating horizontal flow\n",
    "    # psis_list.append(psi.mean())\n",
    "    # hs.append(h.mean())\n",
    "    dh, grads = horizontal_flow(psi, h, delta_t, delta_x) # determine flow in and out of each cell\n",
    "    # grads_list.append(grads)\n",
    "    h = heaviside(H) * (h + dh) # update water depth after horizontal flow\n",
    "\n",
    "    if not i % 20_000:\n",
    "        plt.figure()\n",
    "        plt.imshow(np.ma.masked_where(h<=0, h))\n",
    "        plt.colorbar()\n",
    "        plt.show()\n",
    "        plt.figure()\n",
    "        plt.imshow(np.ma.masked_where(h[:200, :200]<=0, h[:200, :200]))\n",
    "        plt.colorbar()\n",
    "        plt.show()\n",
    "        plt.imshow(np.ma.masked_where(h[:100, :100]<=0, h[:100, :100]))\n",
    "        plt.colorbar()\n",
    "        plt.show()\n",
    "\n",
    "\n",
    "\n",
    "plt.imshow(H)\n",
    "plt.colorbar()"
   ],
   "metadata": {
    "collapsed": false,
    "pycharm": {
     "name": "#%%\n"
    }
   }
  },
  {
   "cell_type": "code",
   "execution_count": null,
   "outputs": [],
   "source": [
    "plt.figure()\n",
    "plt.imshow(np.ma.masked_where(h<=0, h))\n",
    "plt.colorbar()\n",
    "plt.show()\n",
    "plt.figure()\n",
    "plt.imshow(np.ma.masked_where(h[:200, :200]<=0, h[:200, :200]))\n",
    "plt.colorbar()\n",
    "plt.show()"
   ],
   "metadata": {
    "collapsed": false,
    "pycharm": {
     "name": "#%%\n"
    }
   }
  },
  {
   "cell_type": "code",
   "execution_count": null,
   "outputs": [],
   "source": [
    "plt.imshow(np.ma.masked_where(h<=0.01, h))\n",
    "plt.colorbar()"
   ],
   "metadata": {
    "collapsed": false,
    "pycharm": {
     "name": "#%%\n"
    }
   }
  },
  {
   "cell_type": "code",
   "execution_count": null,
   "outputs": [],
   "source": [
    "plt.imshow(np.ma.masked_where(H==0, H))\n",
    "plt.colorbar()"
   ],
   "metadata": {
    "collapsed": false,
    "pycharm": {
     "name": "#%%\n"
    }
   }
  }
 ],
 "metadata": {
  "kernelspec": {
   "display_name": "Python 3",
   "language": "python",
   "name": "python3"
  },
  "language_info": {
   "codemirror_mode": {
    "name": "ipython",
    "version": 3
   },
   "file_extension": ".py",
   "mimetype": "text/x-python",
   "name": "python",
   "nbconvert_exporter": "python",
   "pygments_lexer": "ipython3",
   "version": "3.10.8"
  }
 },
 "nbformat": 4,
 "nbformat_minor": 0
}