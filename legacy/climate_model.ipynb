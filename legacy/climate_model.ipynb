{
 "cells": [
  {
   "cell_type": "code",
   "execution_count": 1,
   "metadata": {
    "collapsed": true,
    "pycharm": {
     "name": "#%%\n"
    }
   },
   "outputs": [],
   "source": [
    "import numpy as np"
   ]
  },
  {
   "cell_type": "code",
   "execution_count": null,
   "outputs": [],
   "source": [
    "\n",
    "\n",
    "\n",
    "lambd = 1 # thermal inertia\n",
    "epsilon = 1 # effective emissivity\n",
    "sigma = 5.6704e−8 #W/m2·K stefan-bolzmann constant\n",
    "mu_o = 1 # radiation incident on earth\n",
    "I_o = 1 # solar constant\n",
    "A_rp = lambda T: 1 # average albedo of rest of planet\n",
    "T = 1 # temperature at time t\n",
    "\n",
    "\n",
    "bracket_rp = -epsilon*sigma*T^4+mu_o/4*I_o*(1-A_rp(T))\n",
    "F_rp = 1/lambd*bracket_rp\n",
    "\n",
    "A_o = 1 # average albedo of ice area\n",
    "B_o = 1 # average albedo of melt ponds\n",
    "S_melt = lambda T: 1 # average area of ponds\n",
    "S_arc = 1\n",
    "\n",
    "R = 1 # pond size\n",
    "bracket_arc = A_o - (A_o - B_o)*S_melt(R)/S_arc\n",
    "F_arc = mu_o*I_o/(4*lambd) * bracket_arc\n",
    "\n"
   ],
   "metadata": {
    "collapsed": false,
    "pycharm": {
     "name": "#%%\n"
    }
   }
  },
  {
   "cell_type": "code",
   "execution_count": null,
   "outputs": [],
   "source": [],
   "metadata": {
    "collapsed": false,
    "pycharm": {
     "name": "#%%\n"
    }
   }
  }
 ],
 "metadata": {
  "kernelspec": {
   "display_name": "Python 3",
   "language": "python",
   "name": "python3"
  },
  "language_info": {
   "codemirror_mode": {
    "name": "ipython",
    "version": 2
   },
   "file_extension": ".py",
   "mimetype": "text/x-python",
   "name": "python",
   "nbconvert_exporter": "python",
   "pygments_lexer": "ipython2",
   "version": "2.7.6"
  }
 },
 "nbformat": 4,
 "nbformat_minor": 0
}