{
 "cells": [
  {
   "cell_type": "code",
   "execution_count": 13,
   "metadata": {
    "collapsed": true,
    "pycharm": {
     "name": "#%%\n"
    }
   },
   "outputs": [],
   "source": [
    "import matplotlib.pyplot as plt\n",
    "import numpy as np\n",
    "from CA_model import CA_model\n",
    "import evaluation\n",
    "import iceing\n",
    "import scipy.stats as stats\n",
    "from skimage.transform import resize"
   ]
  },
  {
   "cell_type": "code",
   "execution_count": 13,
   "outputs": [],
   "source": [],
   "metadata": {
    "collapsed": false,
    "pycharm": {
     "name": "#%%\n"
    }
   }
  },
  {
   "cell_type": "code",
   "execution_count": 14,
   "outputs": [],
   "source": [
    "iceing_test = iceing.iceing_model(0.45, 100)"
   ],
   "metadata": {
    "collapsed": false,
    "pycharm": {
     "name": "#%%\n"
    }
   }
  },
  {
   "cell_type": "code",
   "execution_count": 15,
   "outputs": [],
   "source": [
    "ponds, sums = iceing_test.run(15_000_000)"
   ],
   "metadata": {
    "collapsed": false,
    "pycharm": {
     "name": "#%%\n"
    }
   }
  },
  {
   "cell_type": "code",
   "execution_count": 16,
   "outputs": [],
   "source": [
    "areas_ising, perimeters_ising = evaluation.perim_area(ponds, pond_val = -1, ice_val = 1)"
   ],
   "metadata": {
    "collapsed": false,
    "pycharm": {
     "name": "#%%\n"
    }
   }
  },
  {
   "cell_type": "code",
   "execution_count": 17,
   "outputs": [],
   "source": [
    "# replacement for CA model\n",
    "size = 100\n",
    "h_norm = np.random.normal(loc = 0.5, scale = 1, size = (int(size/3), int(size/3)))\n",
    "h_norm = resize(h_norm, (size, size))\n",
    "h_norm = np.heaviside(h_norm-0.6, 0) * h_norm\n",
    "\n",
    "areas_norm, perimeters_norm = evaluation.perim_area(np.where(h_norm>0, -1, 1), pond_val = -1, ice_val = 1)"
   ],
   "metadata": {
    "collapsed": false,
    "pycharm": {
     "name": "#%%\n"
    }
   }
  },
  {
   "cell_type": "markdown",
   "source": [
    "1. Bootstrap\n",
    "    - resample with replacenemt from area and parimeter pairs\n",
    "    - sample the same size as there are points (full array length)\n",
    "    -\n",
    "2. Func for calculate inflection point from the S curve\n",
    "    - areas,dim\n",
    "\n",
    "-> now we have 100 inflection values\n",
    "-> do these inflection values - the average inflection value"
   ],
   "metadata": {
    "collapsed": false,
    "pycharm": {
     "name": "#%% md\n"
    }
   }
  },
  {
   "cell_type": "code",
   "execution_count": null,
   "outputs": [],
   "source": [
    "def fractal_dim(ponds, pond_val=-1, ice_val=1, bins=50, min_area=0):\n",
    "    # get areas and perimeters\n",
    "    areas, perimeters = perim_area(ponds, pond_val=pond_val, ice_val=ice_val)\n",
    "\n",
    "    # sort arrays\n",
    "    areas, perimeters = zip(*sorted(zip(areas, perimeters)))\n",
    "    areas = np.array(areas)\n",
    "    perimeters = np.array(perimeters)[areas >= min_area]\n",
    "    areas = areas[areas >= min_area]\n",
    "\n",
    "    # bin data and get the lowest perimeter for fitting\n",
    "    areas, perimeters = get_lowest(areas, perimeters, bins=bins)\n",
    "\n",
    "    try:\n",
    "        # Perform curve fitting\n",
    "        fit_params, pcov = curve_fit(integral_D, np.log10(areas), np.log10(perimeters), p0=None)\n",
    "\n",
    "        # calculate the expected values\n",
    "        y_expect = D(np.log10(areas), *fit_params[:4])\n",
    "    except:  # RuntimeError:\n",
    "        return np.array([]), np.array([]), np.array([]), np.array([]), np.array([])\n",
    "\n",
    "    if len(areas > 7):\n",
    "        Dims = []\n",
    "        for i in range(3, len(areas) - 3):\n",
    "            dim = 2 * (np.log(perimeters[i + 3]) - np.log(perimeters[i - 3])) / (\n",
    "                        np.log(areas[i + 3]) - np.log(areas[i - 3]))\n",
    "            Dims.append(dim)\n",
    "\n",
    "        return areas, y_expect, pcov, areas[3:-3], np.array(Dims)\n",
    "\n",
    "    else:\n",
    "        return areas, y_expect, pcov, np.array([]), np.array([])"
   ],
   "metadata": {
    "collapsed": false,
    "pycharm": {
     "name": "#%%\n"
    }
   }
  },
  {
   "cell_type": "code",
   "execution_count": 18,
   "outputs": [
    {
     "name": "stderr",
     "output_type": "stream",
     "text": [
      "/Users/paulhosek/PycharmProjects/ComplexSystemSimulation/evaluation.py:125: RuntimeWarning: overflow encountered in cosh\n",
      "  except:  # RuntimeError:\n"
     ]
    },
    {
     "data": {
      "text/plain": "<Figure size 640x480 with 1 Axes>",
      "image/png": "[encoded data removed]"
     },
     "metadata": {},
     "output_type": "display_data"
    }
   ],
   "source": [
    "areas_dim, dimensions, _, areas_scatter, dimensions_scatter = evaluation.fractal_dim(ponds, -1, 1, 50)\n",
    "plt.plot(areas_dim, dimensions)\n",
    "plt.scatter(areas_scatter, dimensions_scatter)\n",
    "\n",
    "plt.xscale('log')"
   ],
   "metadata": {
    "collapsed": false,
    "pycharm": {
     "name": "#%%\n"
    }
   }
  },
  {
   "cell_type": "code",
   "execution_count": null,
   "outputs": [],
   "source": [],
   "metadata": {
    "collapsed": false,
    "pycharm": {
     "name": "#%%\n"
    }
   }
  }
 ],
 "metadata": {
  "kernelspec": {
   "display_name": "Python 3",
   "language": "python",
   "name": "python3"
  },
  "language_info": {
   "codemirror_mode": {
    "name": "ipython",
    "version": 2
   },
   "file_extension": ".py",
   "mimetype": "text/x-python",
   "name": "python",
   "nbconvert_exporter": "python",
   "pygments_lexer": "ipython2",
   "version": "2.7.6"
  }
 },
 "nbformat": 4,
 "nbformat_minor": 0
}