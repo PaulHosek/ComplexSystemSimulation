{
 "cells": [
  {
   "cell_type": "code",
   "execution_count": 1,
   "metadata": {
    "collapsed": true,
    "pycharm": {
     "name": "#%%\n"
    }
   },
   "outputs": [],
   "source": [
    "import matplotlib.pyplot as plt\n",
    "import numpy as np\n",
    "from CA_model import CA_model\n",
    "import evaluation\n",
    "import iceing\n",
    "import scipy.stats as stats\n",
    "from skimage.transform import resize"
   ]
  },
  {
   "cell_type": "code",
   "execution_count": 1,
   "outputs": [],
   "source": [],
   "metadata": {
    "collapsed": false,
    "pycharm": {
     "name": "#%%\n"
    }
   }
  },
  {
   "cell_type": "code",
   "execution_count": 2,
   "outputs": [],
   "source": [
    "iceing_test = iceing.iceing_model(0.45, 100)"
   ],
   "metadata": {
    "collapsed": false,
    "pycharm": {
     "name": "#%%\n"
    }
   }
  },
  {
   "cell_type": "code",
   "execution_count": 3,
   "outputs": [],
   "source": [
    "ponds, sums = iceing_test.run(15_000_000)"
   ],
   "metadata": {
    "collapsed": false,
    "pycharm": {
     "name": "#%%\n"
    }
   }
  },
  {
   "cell_type": "code",
   "execution_count": 4,
   "outputs": [],
   "source": [
    "areas_ising, perimeters_ising = evaluation.perim_area(ponds, pond_val = -1, ice_val = 1)"
   ],
   "metadata": {
    "collapsed": false,
    "pycharm": {
     "name": "#%%\n"
    }
   }
  },
  {
   "cell_type": "code",
   "execution_count": 5,
   "outputs": [],
   "source": [
    "# replacement for CA model\n",
    "size = 100\n",
    "h_norm = np.random.normal(loc = 0.5, scale = 1, size = (int(size/3), int(size/3)))\n",
    "h_norm = resize(h_norm, (size, size))\n",
    "h_norm = np.heaviside(h_norm-0.6, 0) * h_norm\n",
    "\n",
    "areas_norm, perimeters_norm = evaluation.perim_area(np.where(h_norm>0, -1, 1), pond_val = -1, ice_val = 1)\n",
    "shapes_norm= np.log(areas_norm)/np.log(perimeters_norm)"
   ],
   "metadata": {
    "collapsed": false,
    "pycharm": {
     "name": "#%%\n"
    }
   }
  },
  {
   "cell_type": "code",
   "execution_count": 6,
   "outputs": [],
   "source": [
    "shapes_ising = np.log(areas_ising)/np.log(perimeters_ising)"
   ],
   "metadata": {
    "collapsed": false,
    "pycharm": {
     "name": "#%%\n"
    }
   }
  },
  {
   "cell_type": "code",
   "execution_count": 7,
   "outputs": [
    {
     "data": {
      "text/plain": "KstestResult(statistic=0.15384615384615385, pvalue=0.6206865585848859, statistic_location=1.0986122886681098, statistic_sign=1)"
     },
     "execution_count": 7,
     "metadata": {},
     "output_type": "execute_result"
    }
   ],
   "source": [
    "stats.ks_2samp(np.log(areas_norm),np.log(areas_ising))"
   ],
   "metadata": {
    "collapsed": false,
    "pycharm": {
     "name": "#%%\n"
    }
   }
  },
  {
   "cell_type": "code",
   "execution_count": 8,
   "outputs": [
    {
     "data": {
      "text/plain": "PermutationTestResult(statistic=0.029381242312498057, pvalue=0.5232, null_distribution=array([ 0.05924845, -0.00820734, -0.05705156, ..., -0.06789756,\n       -0.06651877,  0.01994486]))"
     },
     "execution_count": 8,
     "metadata": {},
     "output_type": "execute_result"
    }
   ],
   "source": [
    "def my_statistic(x, y):\n",
    "    return np.mean(x) - np.mean(y)\n",
    "\n",
    "stats.permutation_test((shapes_ising,shapes_norm),statistic=my_statistic)"
   ],
   "metadata": {
    "collapsed": false,
    "pycharm": {
     "name": "#%%\n"
    }
   }
  },
  {
   "cell_type": "code",
   "execution_count": null,
   "outputs": [],
   "source": [
    "sample1 = areas_ising/perimeters_ising\n",
    "sample2 = areas_norm/perimeters_norm\n",
    "\n",
    "plt.figure(figsize=(8, 6))\n",
    "plt.hist(sample1, bins=20, density=True, alpha=0.5, label='Sample 1')\n",
    "plt.hist(sample2, bins=20, density=True, alpha=0.5, label='Sample 2')\n",
    "\n",
    "# Plot the PDFs\n",
    "x = np.linspace(-4, 4, 100)\n",
    "pdf_sample1 = stats.norm.pdf(x, np.mean(sample1), np.std(sample1))\n",
    "pdf_sample2 = stats.norm.pdf(x, np.mean(sample2), np.std(sample2))\n",
    "plt.plot(x, pdf_sample1, 'r-', label='PDF Sample 1')\n",
    "plt.plot(x, pdf_sample2, 'b-', label='PDF Sample 2')\n",
    "\n",
    "# Add labels and a legend\n",
    "plt.xlabel('Value')\n",
    "plt.ylabel('Probability Density')\n",
    "plt.title('PDF Comparison')\n",
    "plt.legend()\n",
    "plt.show()"
   ],
   "metadata": {
    "collapsed": false,
    "pycharm": {
     "name": "#%%\n",
     "is_executing": true
    }
   }
  },
  {
   "cell_type": "code",
   "execution_count": null,
   "outputs": [],
   "source": [
    "plt.figure()\n",
    "plt.scatter(areas_norm, perimeters_norm, marker='x', label = 'normal distribution')\n",
    "plt.scatter(areas_ising, perimeters_ising, marker='.', alpha=0.2, label = 'Ising')\n",
    "plt.legend()\n",
    "# plt.xscale('log')\n",
    "# plt.yscale('log')\n",
    "plt.xlabel('area [m^2]')\n",
    "plt.ylabel('perimeter [m]')"
   ],
   "metadata": {
    "collapsed": false,
    "pycharm": {
     "name": "#%%\n",
     "is_executing": true
    }
   }
  },
  {
   "cell_type": "code",
   "execution_count": null,
   "outputs": [],
   "source": [],
   "metadata": {
    "collapsed": false,
    "pycharm": {
     "name": "#%%\n",
     "is_executing": true
    }
   }
  }
 ],
 "metadata": {
  "kernelspec": {
   "display_name": "Python 3",
   "language": "python",
   "name": "python3"
  },
  "language_info": {
   "codemirror_mode": {
    "name": "ipython",
    "version": 2
   },
   "file_extension": ".py",
   "mimetype": "text/x-python",
   "name": "python",
   "nbconvert_exporter": "python",
   "pygments_lexer": "ipython2",
   "version": "2.7.6"
  }
 },
 "nbformat": 4,
 "nbformat_minor": 0
}