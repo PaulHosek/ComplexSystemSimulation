{
 "cells": [
  {
   "cell_type": "code",
   "execution_count": 31,
   "metadata": {
    "collapsed": true,
    "pycharm": {
     "name": "#%%\n"
    }
   },
   "outputs": [],
   "source": [
    "import matplotlib.pyplot as plt\n",
    "import numpy as np\n",
    "from CA_model import CA_model\n",
    "import evaluation\n",
    "import iceing\n",
    "import scipy.stats as stats\n",
    "from skimage.transform import resize"
   ]
  },
  {
   "cell_type": "code",
   "execution_count": 32,
   "outputs": [],
   "source": [
    "iceing_test = iceing.iceing_model(0.45, 100)"
   ],
   "metadata": {
    "collapsed": false,
    "pycharm": {
     "name": "#%%\n"
    }
   }
  },
  {
   "cell_type": "code",
   "execution_count": 33,
   "outputs": [],
   "source": [
    "ponds, sums = iceing_test.run(15_000_000)"
   ],
   "metadata": {
    "collapsed": false,
    "pycharm": {
     "name": "#%%\n"
    }
   }
  },
  {
   "cell_type": "code",
   "execution_count": 34,
   "outputs": [],
   "source": [
    "areas_ising, perimeters_ising = evaluation.perim_area(ponds, pond_val = -1, ice_val = 1)"
   ],
   "metadata": {
    "collapsed": false,
    "pycharm": {
     "name": "#%%\n"
    }
   }
  },
  {
   "cell_type": "code",
   "execution_count": 35,
   "outputs": [],
   "source": [
    "# replacement for CA model\n",
    "size = 100\n",
    "h_norm = np.random.normal(loc = 0.5, scale = 1, size = (int(size/3), int(size/3)))\n",
    "h_norm = resize(h_norm, (size, size))\n",
    "h_norm = np.heaviside(h_norm-0.6, 0) * h_norm\n",
    "\n",
    "areas_norm, perimeters_norm = evaluation.perim_area(np.where(h_norm>0, -1, 1), pond_val = -1, ice_val = 1)"
   ],
   "metadata": {
    "collapsed": false,
    "pycharm": {
     "name": "#%%\n"
    }
   }
  },
  {
   "cell_type": "code",
   "execution_count": 36,
   "outputs": [],
   "source": [
    "from evaluation import perim_area, get_lowest, curve_fit, D, integral_D"
   ],
   "metadata": {
    "collapsed": false,
    "pycharm": {
     "name": "#%%\n"
    }
   }
  },
  {
   "cell_type": "markdown",
   "source": [
    "1. Bootstrap\n",
    "    - resample with replacenemt from area and parimeter pairs\n",
    "    - sample the same size as there are points (full array length)\n",
    "    -\n",
    "2. Func for calculate inflection point from the S curve\n",
    "    - areas,dim\n",
    "\n",
    "-> now we have 100 inflection values\n",
    "-> do these inflection values - the average inflection value"
   ],
   "metadata": {
    "collapsed": false,
    "pycharm": {
     "name": "#%% md\n"
    }
   }
  },
  {
   "cell_type": "code",
   "execution_count": 324,
   "outputs": [],
   "source": [
    "def bootstrapping(ponds, pond_val=-1, ice_val=1, num_bootstrap=100):\n",
    "    \"\"\"\n",
    "    This function returns a list of areas and perimeters after bootstrapping has been applied.\n",
    "    :param ponds:\n",
    "    :param pond_val:\n",
    "    :param ice_val:\n",
    "    :param num_bootstrap:\n",
    "    :return:\n",
    "    \"\"\"\n",
    "\n",
    "    # get areas and perimeters\n",
    "    areas, perimeters = perim_area(ponds, pond_val=pond_val, ice_val=ice_val)\n",
    "\n",
    "    # Bootstrap resampling\n",
    "    areas_bootstrap = []\n",
    "    perimeters_bootstrap = []\n",
    "\n",
    "    for _ in range(num_bootstrap):\n",
    "        indices = np.random.choice(len(areas), size=len(areas), replace=True)\n",
    "        areas_sampled = areas[indices]\n",
    "        perimeters_sampled = perimeters[indices]\n",
    "\n",
    "        areas_bootstrap.append(areas_sampled)\n",
    "        perimeters_bootstrap.append(perimeters_sampled)\n",
    "\n",
    "    return areas_bootstrap, perimeters_bootstrap"
   ],
   "metadata": {
    "collapsed": false,
    "pycharm": {
     "name": "#%%\n"
    }
   }
  },
  {
   "cell_type": "code",
   "execution_count": 394,
   "outputs": [],
   "source": [
    "def inv_D(y, a1, a2, a3, a4):\n",
    "    arg = (y-a4)/a1\n",
    "\n",
    "    x = 10**np.arctanh(arg/a2) + 10**a3\n",
    "\n",
    "    return x"
   ],
   "metadata": {
    "collapsed": false,
    "pycharm": {
     "name": "#%%\n"
    }
   }
  },
  {
   "cell_type": "code",
   "execution_count": 410,
   "outputs": [],
   "source": [
    "def fractal_dim_from_ap(areas, perimeters, bins = 50, min_area=0):\n",
    "\n",
    "    # sort arrays\n",
    "    areas, perimeters = zip(*sorted(zip(areas, perimeters)))\n",
    "    areas = np.array(areas)\n",
    "    perimeters = np.array(perimeters)[areas >= min_area]\n",
    "    areas = areas[areas >= min_area]\n",
    "\n",
    "    # bin data and get the lowest perimeter for fitting\n",
    "    areas, perimeters = get_lowest(areas, perimeters, bins=bins)\n",
    "\n",
    "    try:\n",
    "        # Perform curve fitting\n",
    "        fit_params, pcov = curve_fit(integral_D, np.log10(areas), np.log10(perimeters), p0=None)\n",
    "\n",
    "        plot_areas = 10**np.linspace(0,5,1000)\n",
    "        # calculate the expected values\n",
    "        y_expect = D(np.log10(plot_areas), *fit_params[:4])\n",
    "\n",
    "        y = (np.max(y_expect) + np.min(y_expect))/2\n",
    "        point = inv_D(y, fit_params[0], fit_params[1], fit_params[2], fit_params[3])\n",
    "\n",
    "    except:  # RuntimeError:\n",
    "        return np.array([]), np.array([]), np.array([]), np.array([]), np.array([]), 99999\n",
    "        #return np.array([]), np.array([]), np.array([]), np.array([]), np.array([])\n",
    "\n",
    "    if len(areas > 7):\n",
    "        Dims = []\n",
    "        for i in range(3, len(areas) - 3):\n",
    "            dim = 2 * (np.log(perimeters[i + 3]) - np.log(perimeters[i - 3])) / (\n",
    "                        np.log(areas[i + 3]) - np.log(areas[i - 3]))\n",
    "            Dims.append(dim)\n",
    "\n",
    "        return plot_areas, y_expect, pcov, areas[3:-3], np.array(Dims), point\n",
    "    else:\n",
    "        return np.array([]), np.array([]), np.array([]), np.array([]), np.array([]), 99999"
   ],
   "metadata": {
    "collapsed": false,
    "pycharm": {
     "name": "#%%\n"
    }
   }
  },
  {
   "cell_type": "code",
   "execution_count": 396,
   "outputs": [],
   "source": [
    "areas1, perimeters1 = perim_area(ponds, -1, 1)"
   ],
   "metadata": {
    "collapsed": false,
    "pycharm": {
     "name": "#%%\n"
    }
   }
  },
  {
   "cell_type": "code",
   "execution_count": 397,
   "outputs": [],
   "source": [
    "areas_bootstrap, perimeters_bootstrap = bootstrapping(ponds,-1,1, 100)"
   ],
   "metadata": {
    "collapsed": false,
    "pycharm": {
     "name": "#%%\n"
    }
   }
  },
  {
   "cell_type": "code",
   "execution_count": 421,
   "outputs": [],
   "source": [
    "def mean_inflation_pont(ponds):\n",
    "    \"\"\"\n",
    "    This function calculates the average mean inflection value.\n",
    "    :param ponds:\n",
    "    :return: mean inflection value.\n",
    "    \"\"\"\n",
    "\n",
    "    areas_bootstrap, perimeters_bootstrap = bootstrapping(ponds,-1,1, 100)\n",
    "\n",
    "    inflection_list = []\n",
    "\n",
    "    for i in range(100):\n",
    "        areas_dim, dimensions, _, areas_scatter, dimensions_scatter, point= fractal_dim_from_ap(areas_bootstrap[i],perimeters_bootstrap[i], 50, 0)\n",
    "\n",
    "        if point != 99999:\n",
    "            inflection_list.append(point)\n",
    "\n",
    "    return np.mean(inflection_list)"
   ],
   "metadata": {
    "collapsed": false,
    "pycharm": {
     "name": "#%%\n"
    }
   }
  },
  {
   "cell_type": "code",
   "execution_count": 418,
   "outputs": [
    {
     "data": {
      "text/plain": "<matplotlib.collections.PathCollection at 0x7f81b9df3250>"
     },
     "execution_count": 418,
     "metadata": {},
     "output_type": "execute_result"
    },
    {
     "data": {
      "text/plain": "<Figure size 640x480 with 1 Axes>",
      "image/png": "[encoded data removed]"
     },
     "metadata": {},
     "output_type": "display_data"
    }
   ],
   "source": [
    "# Get the S curve for each bootstrapping area\n",
    "areas_dim, dimensions, _, areas_scatter, dimensions_scatter, point= fractal_dim_from_ap(areas_bootstrap[18],perimeters_bootstrap[18], 50, 0)\n",
    "\n",
    "# Calculate the inflexion point\n",
    "#inflection_x, inflection_y = calculate_inflection_points(areas_dim,dimensions)\n",
    "\n",
    "# Plot the curve + inflaxion point\n",
    "plt.axhline((np.max(dimensions) + np.min(dimensions))/2)\n",
    "plt.plot(areas_dim, dimensions)\n",
    "plt.scatter(point, (np.max(dimensions) + np.min(dimensions))/2, color=\"pink\")\n",
    "plt.xscale(\"log\")\n",
    "plt.scatter(areas_scatter, dimensions_scatter)"
   ],
   "metadata": {
    "collapsed": false,
    "pycharm": {
     "name": "#%%\n"
    }
   }
  },
  {
   "cell_type": "code",
   "execution_count": 386,
   "outputs": [
    {
     "name": "stdout",
     "output_type": "stream",
     "text": [
      "1.521549361168093\n"
     ]
    }
   ],
   "source": [
    "print(dimensions[324])"
   ],
   "metadata": {
    "collapsed": false,
    "pycharm": {
     "name": "#%%\n"
    }
   }
  },
  {
   "cell_type": "code",
   "execution_count": 319,
   "outputs": [
    {
     "data": {
      "text/plain": "<Figure size 640x480 with 1 Axes>",
      "image/png": "[encoded data removed]"
     },
     "metadata": {},
     "output_type": "display_data"
    }
   ],
   "source": [
    "# Get the S curve for each bootstrapping area\n",
    "areas_dim, dimensions, _, _, _ = fractal_dim_from_ap(areas_bootstrap[0], perimeters_bootstrap[0], 50, 0)\n",
    "\n",
    "# Sort the areas_dim and dimensions arrays\n",
    "sorted_indices = np.argsort(areas_dim)\n",
    "areas_dim = areas_dim[sorted_indices]\n",
    "dimensions = dimensions[sorted_indices]\n",
    "\n",
    "# Calculate the inflection point\n",
    "inflection_x, inflection_y = calculate_inflection_points(areas_dim, dimensions)\n",
    "\n",
    "# Plot the curve and inflection point\n",
    "plt.scatter(inflection_x, inflection_y, color=\"red\", label=\"Inflection Point\")\n",
    "plt.plot(areas_dim, dimensions, label=\"Curve\")\n",
    "plt.legend()\n",
    "plt.xlabel(\"Areas\")\n",
    "plt.ylabel(\"Dimensions\")\n",
    "plt.show()\n"
   ],
   "metadata": {
    "collapsed": false,
    "pycharm": {
     "name": "#%%\n"
    }
   }
  },
  {
   "cell_type": "code",
   "execution_count": null,
   "outputs": [],
   "source": [],
   "metadata": {
    "collapsed": false,
    "pycharm": {
     "name": "#%%\n"
    }
   }
  },
  {
   "cell_type": "code",
   "execution_count": 10,
   "outputs": [
    {
     "ename": "SyntaxError",
     "evalue": "invalid syntax (3252298255.py, line 1)",
     "output_type": "error",
     "traceback": [
      "\u001B[0;36m  File \u001B[0;32m\"/var/folders/94/k97m49bj5h589kpv3vd9vtcm0000gn/T/ipykernel_1704/3252298255.py\"\u001B[0;36m, line \u001B[0;32m1\u001B[0m\n\u001B[0;31m    1. Bootstrap\u001B[0m\n\u001B[0m               ^\u001B[0m\n\u001B[0;31mSyntaxError\u001B[0m\u001B[0;31m:\u001B[0m invalid syntax\n"
     ]
    }
   ],
   "source": [
    "areas_dim, dimensions, _, areas_scatter, dimensions_scatter = evaluation.fractal_dim(ponds, -1, 1, 50)\n",
    "plt.plot(areas_dim, dimensions)\n",
    "plt.scatter(areas_scatter, dimensions_scatter)\n",
    "\n",
    "plt.xscale('log')"
   ],
   "metadata": {
    "collapsed": false,
    "pycharm": {
     "name": "#%%\n"
    }
   }
  },
  {
   "cell_type": "code",
   "execution_count": 11,
   "outputs": [],
   "source": [],
   "metadata": {
    "collapsed": false,
    "pycharm": {
     "name": "#%%\n"
    }
   }
  }
 ],
 "metadata": {
  "kernelspec": {
   "display_name": "Python 3",
   "language": "python",
   "name": "python3"
  },
  "language_info": {
   "codemirror_mode": {
    "name": "ipython",
    "version": 2
   },
   "file_extension": ".py",
   "mimetype": "text/x-python",
   "name": "python",
   "nbconvert_exporter": "python",
   "pygments_lexer": "ipython2",
   "version": "2.7.6"
  }
 },
 "nbformat": 4,
 "nbformat_minor": 0
}