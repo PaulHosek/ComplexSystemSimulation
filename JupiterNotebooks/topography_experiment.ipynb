{
 "cells": [
  {
   "cell_type": "code",
   "execution_count": null,
   "outputs": [],
   "source": [
    "import numpy as np\n",
    "import matplotlib.pyplot as plt\n",
    "import initial_distributions"
   ],
   "metadata": {
    "collapsed": false,
    "pycharm": {
     "name": "#%%\n"
    }
   }
  },
  {
   "cell_type": "markdown",
   "source": [
    "### Entropy vs Control Parameter"
   ],
   "metadata": {
    "collapsed": false,
    "pycharm": {
     "name": "#%% md\n"
    }
   }
  },
  {
   "cell_type": "code",
   "execution_count": null,
   "outputs": [],
   "source": [
    "order_func = initial_distributions.entropy_topology_noscale\n",
    "\n",
    "control_parameter_range = np.linspace(0.1, 1, 100)\n",
    "order_parameters = []\n",
    "\n",
    "for control_parameter in control_parameter_range:\n",
    "    dist = initial_distributions.order_distribution(control_parameter,size=100)\n",
    "    res = order_func(dist)\n",
    "    order_parameters.append(res)\n",
    "\n",
    "\n",
    "plt.figure(figsize=(12/4,8/4))\n",
    "plt.plot(1-control_parameter_range, order_parameters,\"steelblue\")\n",
    "plt.xlabel(\"Control Parameter\")\n",
    "plt.ylabel(\"Entropy\")\n",
    "# plt.title(\"Entropy vs. Control Parameter\")\n",
    "plt.savefig(\"entropy_vs_control_parameter\", bbox_inches=\"tight\", dpi=300, transparent=True)"
   ],
   "metadata": {
    "collapsed": false,
    "pycharm": {
     "name": "#%%\n"
    }
   }
  },
  {
   "cell_type": "markdown",
   "source": [
    "### Real life topography"
   ],
   "metadata": {
    "collapsed": false,
    "pycharm": {
     "name": "#%% md\n"
    }
   }
  },
  {
   "cell_type": "code",
   "execution_count": null,
   "outputs": [],
   "source": [
    "size = 100\n",
    "x,y = np.meshgrid(np.linspace(0, 1, size), np.linspace(0, 1, size))\n",
    "mode = 'snow_dune'              # topography type\n",
    "tmax = 2; dt = 0.1              # diffusion time and time-step if mode = 'diffusion' or mode = 'rayleigh'\n",
    "g = 1                           # anisotropy parameter\n",
    "sigma_h = 0.03                  # surface standard deviation\n",
    "snow_dune_radius = 1.           # mean snow dune radius if mode = 'snow_dune'\n",
    "Gaussians_per_pixel = 0.2       # density of snow dunes if mode = 'snow_dune'\n",
    "snow_dune_height_exponent = 1.  # exponent that relates snow dune radius and snow dune height if mode = 'snow_dune'\n",
    "\n",
    "mean_freeboard = 0.1\n",
    "\n",
    "Tdrain = 10.; dt_drain = 0.5    # time and time-step of to drainage\n",
    "\n",
    "# create topography\n",
    "z = initial_distributions.Create_Initial_Topography(res = size, mode = mode, tmax = tmax, dt = dt, g = g, sigma_h = sigma_h, h = mean_freeboard, snow_dune_radius = snow_dune_radius,\n",
    "            Gaussians_per_pixel = Gaussians_per_pixel, number_of_r_bins = 150, window_size = 5, snow_dune_height_exponent = snow_dune_height_exponent)\n",
    "\n"
   ],
   "metadata": {
    "collapsed": false,
    "pycharm": {
     "name": "#%%\n"
    }
   }
  },
  {
   "cell_type": "code",
   "execution_count": null,
   "outputs": [],
   "source": [
    "fig = plt.figure(figsize=(11,8))\n",
    "ax2 = fig.add_subplot(111,projection=\"3d\")\n",
    "ax2.plot_surface(x, y, z)\n",
    "plt.axis(\"off\")\n",
    "plt.savefig(f\"snow_dune\",bbox_inches=\"tight\", dpi=300, transparent=True)"
   ],
   "metadata": {
    "collapsed": false,
    "pycharm": {
     "name": "#%%\n"
    }
   }
  },
  {
   "cell_type": "markdown",
   "source": [
    "- The following code may take too long to run on your machine, we let it run over 48h."
   ],
   "metadata": {
    "collapsed": false,
    "pycharm": {
     "name": "#%% md\n"
    }
   }
  },
  {
   "cell_type": "code",
   "execution_count": null,
   "outputs": [],
   "source": [
    "raise KeyboardInterrupt"
   ],
   "metadata": {
    "collapsed": false,
    "pycharm": {
     "name": "#%%\n"
    }
   }
  },
  {
   "cell_type": "code",
   "execution_count": null,
   "outputs": [],
   "source": [
    "control_parameter_range, order_parameters, entropys = evaluation.main_topography_change_order(size=1000)"
   ],
   "metadata": {
    "collapsed": false,
    "pycharm": {
     "name": "#%%\n"
    }
   }
  },
  {
   "cell_type": "code",
   "execution_count": null,
   "outputs": [],
   "source": [
    "plt.figure(figsize=(11/2,8/2))\n",
    "plt.plot(control_parameter_range, 1-np.array(order_parameters),\"steelblue\", label=\"order paramter\")\n",
    "# plt.plot(control_parameter_range, entropys,\"orange\", label=\"entropy\")\n",
    "plt.xlabel(\"Control Parameter\")\n",
    "plt.ylabel(\"Order Parameter\")\n",
    "plt.title(\"Order Parameter vs Control Parameter\")\n",
    "plt.legend()\n",
    "# plt.savefig(\"order_vs_control parameter\", bbox_inches=\"tight\", dpi=300,transparent=True)\n",
    "plt.show"
   ],
   "metadata": {
    "collapsed": false,
    "pycharm": {
     "name": "#%%\n"
    }
   }
  },
  {
   "cell_type": "code",
   "execution_count": null,
   "outputs": [],
   "source": [],
   "metadata": {
    "collapsed": false,
    "pycharm": {
     "name": "#%%\n"
    }
   }
  }
 ],
 "metadata": {
  "kernelspec": {
   "display_name": "Python 3",
   "language": "python",
   "name": "python3"
  },
  "language_info": {
   "codemirror_mode": {
    "name": "ipython",
    "version": 2
   },
   "file_extension": ".py",
   "mimetype": "text/x-python",
   "name": "python",
   "nbconvert_exporter": "python",
   "pygments_lexer": "ipython2",
   "version": "2.7.6"
  }
 },
 "nbformat": 4,
 "nbformat_minor": 0
}